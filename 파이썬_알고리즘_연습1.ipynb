{
  "nbformat": 4,
  "nbformat_minor": 0,
  "metadata": {
    "colab": {
      "provenance": [],
      "toc_visible": true,
      "collapsed_sections": [],
      "authorship_tag": "ABX9TyOystojEk5GK7ejKwV65a6+",
      "include_colab_link": true
    },
    "kernelspec": {
      "name": "python3",
      "display_name": "Python 3"
    },
    "language_info": {
      "name": "python"
    }
  },
  "cells": [
    {
      "cell_type": "markdown",
      "metadata": {
        "id": "view-in-github",
        "colab_type": "text"
      },
      "source": [
        "<a href=\"https://colab.research.google.com/github/SongJuHo-0410/Python_algorithm/blob/master/%ED%8C%8C%EC%9D%B4%EC%8D%AC_%EC%95%8C%EA%B3%A0%EB%A6%AC%EC%A6%98_%EC%97%B0%EC%8A%B51.ipynb\" target=\"_parent\"><img src=\"https://colab.research.google.com/assets/colab-badge.svg\" alt=\"Open In Colab\"/></a>"
      ]
    },
    {
      "cell_type": "markdown",
      "source": [
        "문제. 10진수, 2진수, 8진수 어느 것으로 표현하여도 대칭수가 되는 수 중, 10진수의 10인상에서의 최솟값은?"
      ],
      "metadata": {
        "id": "0TU699QUfBe7"
      }
    },
    {
      "cell_type": "code",
      "source": [
        "#11부터 탐색 개시(10이상 부터지만 10은 회문수가 아니기 때문)\n",
        "i = 11\n",
        "\n",
        "while True:\n",
        "  #진법에 따른 변수를 선언\n",
        "  num_2 = bin(i)[2:] #2진법을 변경(앞에 0b가 생기기 때문에)\n",
        "  num_8 = oct(i)[2:] #8진법을 변경(앞에 0o가 생기기 때문에)\n",
        "  num_10 = str(i) #str로 변환([::-1]형태는 str형태에서 사용가능하기 때문에 변환 필요)\n",
        "\n",
        "  if num_10 == num_10[::-1] and num_2 == num_2[::-1] and num_8 == num_8[::-1]:\n",
        "    print(i)\n",
        "    break\n",
        "  \n",
        "  #홀수만 탐색(2진수와 8진수 앞에 0일 수는 없기 때문에 일의 자리가 0인 짝수는 제외외)\n",
        "  i += 2"
      ],
      "metadata": {
        "id": "7-WpehoQFb50",
        "colab": {
          "base_uri": "https://localhost:8080/"
        },
        "outputId": "f9755b23-8f2c-41f3-cf5f-e7395799893a"
      },
      "execution_count": null,
      "outputs": [
        {
          "output_type": "stream",
          "name": "stdout",
          "text": [
            "585\n"
          ]
        }
      ]
    }
  ]
}